{
 "cells": [
  {
   "cell_type": "code",
   "execution_count": 1,
   "id": "4864483b",
   "metadata": {},
   "outputs": [],
   "source": [
    "def génération(x):\n",
    "    Proie=[]\n",
    "    Prédateur=[]\n",
    "    for i in range(x):\n",
    "        Proie.append(1)\n",
    "        Prédateur.append(2)\n",
    "    return Proie,Prédateur\n",
    "    \n",
    "    "
   ]
  },
  {
   "cell_type": "raw",
   "id": "3ceef0d1",
   "metadata": {},
   "source": [
    "'''\n",
    "a=taux de reproduction des proies\n",
    "\n",
    "b=taux de mortalité des proies dû aux prédateurs rencontrés\n",
    "\n",
    "c=taux de mortalité des prédateurs\n",
    "\n",
    "d=taux de reproduction des prédateurs en fonction des proies mangées\n",
    "\n",
    "n1=nb_proies\n",
    "n2=nb_prédateurs\n",
    "\n",
    "\n",
    "'''"
   ]
  },
  {
   "cell_type": "code",
   "execution_count": 3,
   "id": "e44ace67",
   "metadata": {},
   "outputs": [],
   "source": [
    "dt=1\n",
    "a=1.1\n",
    "b=0.05\n",
    "c=0.5\n",
    "d=0.05"
   ]
  },
  {
   "cell_type": "code",
   "execution_count": 4,
   "id": "0c3b1be1",
   "metadata": {},
   "outputs": [],
   "source": [
    "def proies(n1,n2):\n",
    "    return n1*(a-b*n2)"
   ]
  },
  {
   "cell_type": "code",
   "execution_count": 13,
   "id": "d4588856",
   "metadata": {},
   "outputs": [],
   "source": [
    "def prédateurs(n1,n2):\n",
    "    return (-n2)*(c-d*n1)"
   ]
  },
  {
   "cell_type": "code",
   "execution_count": 14,
   "id": "860263cd",
   "metadata": {},
   "outputs": [],
   "source": [
    "t=0\n",
    "n1=50\n",
    "n2=30\n",
    "for i in range(5):\n",
    "    n1=proies(n1,n2)*dt+n1\n",
    "    n2=prédateurs(n1,n2)*dt+n2\n",
    "    \n",
    "    \n"
   ]
  },
  {
   "cell_type": "code",
   "execution_count": 15,
   "id": "5e7039b8",
   "metadata": {},
   "outputs": [
    {
     "data": {
      "text/plain": [
       "-517873805819.8073"
      ]
     },
     "execution_count": 15,
     "metadata": {},
     "output_type": "execute_result"
    }
   ],
   "source": [
    "n1"
   ]
  },
  {
   "cell_type": "code",
   "execution_count": null,
   "id": "dd78a2e6",
   "metadata": {},
   "outputs": [],
   "source": []
  }
 ],
 "metadata": {
  "kernelspec": {
   "display_name": "Python 3 (ipykernel)",
   "language": "python",
   "name": "python3"
  },
  "language_info": {
   "codemirror_mode": {
    "name": "ipython",
    "version": 3
   },
   "file_extension": ".py",
   "mimetype": "text/x-python",
   "name": "python",
   "nbconvert_exporter": "python",
   "pygments_lexer": "ipython3",
   "version": "3.9.6"
  }
 },
 "nbformat": 4,
 "nbformat_minor": 5
}
