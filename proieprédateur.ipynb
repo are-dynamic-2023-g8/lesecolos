{
 "cells": [
  {
   "cell_type": "code",
   "execution_count": 1,
   "id": "4864483b",
   "metadata": {},
   "outputs": [],
   "source": [
    "def génération(x):\n",
    "    Proie=[]\n",
    "    Prédateur=[]\n",
    "    for i in range(x):\n",
    "        Proie.append(1)\n",
    "        Prédateur.append(2)\n",
    "    return Proie,Prédateur\n",
    "    \n",
    "    "
   ]
  },
  {
   "cell_type": "raw",
   "id": "3ceef0d1",
   "metadata": {},
   "source": [
    "'''\n",
    "a=taux de reproduction des proies\n",
    "\n",
    "b=taux de mortalité des proies dû aux prédateurs rencontrés\n",
    "\n",
    "c=taux de mortalité des prédateurs\n",
    "\n",
    "d=taux de reproduction des prédateurs en fonction des proies mangées\n",
    "\n",
    "n1=nb_proies\n",
    "n2=nb_prédateurs\n",
    "'''"
   ]
  },
  {
   "cell_type": "code",
   "execution_count": 4,
   "id": "0c3b1be1",
   "metadata": {},
   "outputs": [],
   "source": [
    "def proies(n1,n2):\n",
    "    return n1*(a-b*n2)"
   ]
  },
  {
   "cell_type": "code",
   "execution_count": 5,
   "id": "d4588856",
   "metadata": {},
   "outputs": [],
   "source": [
    "def prédateurs(n1,n2):\n",
    "    return n2*(c-d*n1)"
   ]
  },
  {
   "cell_type": "code",
   "execution_count": null,
   "id": "860263cd",
   "metadata": {},
   "outputs": [],
   "source": []
  }
 ],
 "metadata": {
  "kernelspec": {
   "display_name": "Python 3 (ipykernel)",
   "language": "python",
   "name": "python3"
  },
  "language_info": {
   "codemirror_mode": {
    "name": "ipython",
    "version": 3
   },
   "file_extension": ".py",
   "mimetype": "text/x-python",
   "name": "python",
   "nbconvert_exporter": "python",
   "pygments_lexer": "ipython3",
   "version": "3.9.6"
  }
 },
 "nbformat": 4,
 "nbformat_minor": 5
}
